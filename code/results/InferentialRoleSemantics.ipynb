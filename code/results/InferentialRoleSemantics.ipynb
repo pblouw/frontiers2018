{
 "cells": [
  {
   "cell_type": "markdown",
   "metadata": {},
   "source": [
    "## Inferential Role Semantics for Natural Language\n",
    "\n",
    "This notebook that illustrates how to use recursive neural networks to generate and manipulate inferential roles for natural language expressions. The basic idea is to use one neural network to encode a sentence into an embedding, and then use another neural network to decode the sentence's inferential consequences from this embedding.\n",
    "\n",
    "First, we'll define some functions to do some basic preprocessing on the SNLI dataset."
   ]
  },
  {
   "cell_type": "code",
   "execution_count": 1,
   "metadata": {
    "collapsed": false
   },
   "outputs": [],
   "source": [
    "import enchant \n",
    "import random\n",
    "import pickle\n",
    "import numpy as np\n",
    "\n",
    "from collections import namedtuple\n",
    "from pysem.corpora import SNLI\n",
    "from pysem.networks import DependencyNetwork\n",
    "from pysem.generatives import EmbeddingGenerator, EncoderDecoder\n",
    "\n",
    "checker = enchant.Dict('en_US')\n",
    "TrainingPair = namedtuple('TrainingPair', ['sentence1', 'sentence2', 'label'])\n",
    "\n",
    "snli = SNLI('/Users/peterblouw/corpora/snli_1.0/') # modify this for your SNLI path\n",
    "snli.load_xy_pairs()\n",
    "\n",
    "def repair(sen):\n",
    "    tokens = DependencyNetwork.parser(sen)\n",
    "    if len(tokens) > 15:\n",
    "        return None\n",
    "    for token in tokens:\n",
    "        if not checker.check(token.text):\n",
    "            return None\n",
    "    return sen\n",
    "\n",
    "def clean_data(data):\n",
    "    clean = []\n",
    "    for item in data:\n",
    "        s1 = repair(item.sentence1)\n",
    "        s2 = repair(item.sentence2)\n",
    "        if s1 == None or s2 == None:\n",
    "            continue\n",
    "        else:\n",
    "            clean.append(TrainingPair(s1, s2, item.label))\n",
    "   \n",
    "    return clean\n",
    "\n",
    "def build_vocab(data):\n",
    "    vocab = set()\n",
    "    for item in data:\n",
    "        parse1 = DependencyNetwork.parser(item.sentence1)\n",
    "        parse2 = DependencyNetwork.parser(item.sentence2)\n",
    "        \n",
    "        for t in parse1:\n",
    "            if t.text not in vocab:\n",
    "                vocab.add(t.text)\n",
    "        \n",
    "        for t in parse2:\n",
    "            if t.text not in vocab:\n",
    "                vocab.add(t.text)\n",
    "\n",
    "    return sorted(list(vocab))"
   ]
  },
  {
   "cell_type": "code",
   "execution_count": 2,
   "metadata": {
    "collapsed": false
   },
   "outputs": [],
   "source": [
    "clean_dev = clean_data(snli.dev_data)\n",
    "clean_train = clean_data(snli.train_data)\n",
    "clean_test = clean_data(snli.test_data)"
   ]
  },
  {
   "cell_type": "markdown",
   "metadata": {},
   "source": [
    "Next, we'll build a vocab from the set of cleaned sentence pairs. The number of items in the vocab can vary slightly depending on which version of the SpaCy dependency parser is being used."
   ]
  },
  {
   "cell_type": "code",
   "execution_count": 3,
   "metadata": {
    "collapsed": false
   },
   "outputs": [
    {
     "name": "stdout",
     "output_type": "stream",
     "text": [
      "22495\n"
     ]
    }
   ],
   "source": [
    "data = clean_dev + clean_test + clean_train\n",
    "vocab = build_vocab(data)\n",
    "\n",
    "print(len(vocab))"
   ]
  },
  {
   "cell_type": "markdown",
   "metadata": {},
   "source": [
    "Now we can collect all of the sentence pairs standing in entailment relations to one another."
   ]
  },
  {
   "cell_type": "code",
   "execution_count": 4,
   "metadata": {
    "collapsed": false
   },
   "outputs": [
    {
     "name": "stdout",
     "output_type": "stream",
     "text": [
      "106246\n",
      "1666\n",
      "1700\n"
     ]
    }
   ],
   "source": [
    "train_data = [d for d in clean_train if d.label == 'entailment']\n",
    "test_data = [d for d in clean_test if d.label == 'entailment']\n",
    "dev_data = [d for d in clean_dev if d.label == 'entailment']\n",
    "\n",
    "print(len(train_data))\n",
    "print(len(test_data))\n",
    "print(len(dev_data))"
   ]
  },
  {
   "cell_type": "markdown",
   "metadata": {},
   "source": [
    "To train a model on the example entailment pairs from SNLI, we can do the following:"
   ]
  },
  {
   "cell_type": "code",
   "execution_count": 6,
   "metadata": {
    "collapsed": false
   },
   "outputs": [],
   "source": [
    "dim = 300\n",
    "\n",
    "# dependency-specific vocabs to include relevant words for a particular POS.\n",
    "with open('depdict.pickle', 'rb') as pfile:\n",
    "    subvocabs = pickle.load(pfile) \n",
    "\n",
    "# \n",
    "encoder = DependencyNetwork(dim=dim, vocab=vocab)\n",
    "decoder = EmbeddingGenerator(dim=dim, subvocabs=subvocabs)\n",
    "\n",
    "learned_model = EncoderDecoder(encoder=encoder, decoder=decoder, data=train_data)\n",
    "learned_model.train(iters=1, rate=0.0006, batchsize=10)"
   ]
  },
  {
   "cell_type": "markdown",
   "metadata": {},
   "source": [
    "This is slow, so we can also load model paramters that have been previously generated:"
   ]
  },
  {
   "cell_type": "code",
   "execution_count": 7,
   "metadata": {
    "collapsed": false
   },
   "outputs": [],
   "source": [
    "model = EncoderDecoder(encoder=None, decoder=None, data=train_data)\n",
    "model.load('encoder.pickle','decoder.pickle')"
   ]
  },
  {
   "cell_type": "code",
   "execution_count": 8,
   "metadata": {
    "collapsed": false
   },
   "outputs": [
    {
     "data": {
      "text/plain": [
       "'boys are playing outside in a fountain .'"
      ]
     },
     "execution_count": 8,
     "metadata": {},
     "output_type": "execute_result"
    }
   ],
   "source": [
    "sample = random.choice(test_data)\n",
    "\n",
    "model.encode(sample.sentence1)\n",
    "model.decode(sample.sentence2)"
   ]
  },
  {
   "cell_type": "code",
   "execution_count": 9,
   "metadata": {
    "collapsed": false
   },
   "outputs": [
    {
     "name": "stdout",
     "output_type": "stream",
     "text": [
      "0.7056433181328429\n",
      "0.6013361169102296\n"
     ]
    }
   ],
   "source": [
    "def compute_accuracy(data, model):\n",
    "    total = 0 \n",
    "    correct = 0\n",
    "\n",
    "    for item in data:\n",
    "        model.encoder.forward_pass(item.sentence1)\n",
    "        model.decoder.forward_pass(item.sentence2, model.encoder.get_root_embedding())\n",
    "\n",
    "        for node in model.decoder.tree:\n",
    "            total += 1\n",
    "            if node.pword.lower() == node.lower_:\n",
    "                correct += 1\n",
    "\n",
    "    return float(correct / total)\n",
    "\n",
    "print(compute_accuracy(train_data, model))\n",
    "print(compute_accuracy(dev_data, model))"
   ]
  },
  {
   "cell_type": "markdown",
   "metadata": {},
   "source": [
    "## Simple Entailment Generation Examples\n",
    "\n",
    "This small amount of data probably isn't enough to generalize outside of the training set, so we'll first check how well the learned decoder is able to generate the entailments it has been trained on."
   ]
  },
  {
   "cell_type": "code",
   "execution_count": 14,
   "metadata": {
    "collapsed": false
   },
   "outputs": [
    {
     "name": "stdout",
     "output_type": "stream",
     "text": [
      "Sentence:  A woman with a red purse in an orange shirt sitting and eating.\n",
      "Actual Entailment:  A lady eats.\n",
      "Predicted Entailment:  a woman eating .\n",
      "\n",
      "Sentence:  People are walking in the rain with umbrellas and raincoats around the fountain.\n",
      "Actual Entailment:  Some individuals are walking in the rain\n",
      "Predicted Entailment:  the people are walking in the rain\n",
      "\n",
      "Sentence:  Two men on a balcony look up and point at something.\n",
      "Actual Entailment:  Two men on a balcony point at something.\n",
      "Predicted Entailment:  two are at a balcony something at something .\n",
      "\n",
      "Sentence:  Two friends run in a competitive race.\n",
      "Actual Entailment:  Two people are running.\n",
      "Predicted Entailment:  two people are running .\n",
      "\n",
      "Sentence:  The man in the black jacket is walking past the dilapidated doorways.\n",
      "Actual Entailment:  A man is walking through a doorway.\n",
      "Predicted Entailment:  a man is walking past the street .\n",
      "\n"
     ]
    }
   ],
   "source": [
    "batch = random.sample(train_data, 5)\n",
    "\n",
    "for sample in batch:\n",
    "    model.encode(sample.sentence1)\n",
    "\n",
    "    print('Sentence: ', sample.sentence1)\n",
    "    print('Actual Entailment: ', sample.sentence2)\n",
    "    print('Predicted Entailment: ', model.decode(sample.sentence2))\n",
    "    print('')"
   ]
  },
  {
   "cell_type": "code",
   "execution_count": 15,
   "metadata": {
    "collapsed": false
   },
   "outputs": [
    {
     "name": "stdout",
     "output_type": "stream",
     "text": [
      "Sentence:  The young man in colorful shorts is barefoot.\n",
      "Predicted Entailment:  the young man wearing outside .\n",
      "\n",
      "Sentence:  A young man sleeping next to a dog.\n",
      "Predicted Entailment:  a young man sleeping next .\n",
      "\n",
      "Sentence:  The 3 dogs are cruising down the street.\n",
      "Predicted Entailment:  the small dogs are outside .\n",
      "\n",
      "Sentence:  Woman reading a book with a grocery tote.\n",
      "Predicted Entailment:  a old woman reading outside .\n",
      "\n",
      "Sentence:  A man laughing while at a restaurant.\n",
      "Predicted Entailment:  a happy man laughing indoors .\n",
      "\n",
      "Sentence:  Two individuals use a photo kiosk.\n",
      "Predicted Entailment:  the few people are together .\n",
      "\n",
      "Sentence:  A man pulling items on a cart.\n",
      "Predicted Entailment:  a full man pulling outside .\n",
      "\n",
      "Sentence:  Three people are riding a carriage pulled by four horses.\n",
      "Predicted Entailment:  a several horses riding together .\n",
      "\n"
     ]
    }
   ],
   "source": [
    "dec_samp = random.sample(train_data, 1).pop()\n",
    "dec_tree = dec_samp.sentence2\n",
    "\n",
    "sen = \"The young man in colorful shorts is barefoot.\"\n",
    "model.encode(sen)\n",
    "print('Sentence: ', sen)\n",
    "print('Predicted Entailment: ', model.decode(dec_tree))\n",
    "print('')\n",
    "\n",
    "sen = \"A young man sleeping next to a dog.\"\n",
    "model.encode(sen)\n",
    "print('Sentence: ', sen)\n",
    "print('Predicted Entailment: ', model.decode(dec_tree))\n",
    "print('')\n",
    "\n",
    "sen = \"The 3 dogs are cruising down the street.\"\n",
    "model.encode(sen)\n",
    "print('Sentence: ', sen)\n",
    "print('Predicted Entailment: ', model.decode(dec_tree))\n",
    "print('')\n",
    "\n",
    "sen = \"Woman reading a book with a grocery tote.\"\n",
    "model.encode(sen)\n",
    "print('Sentence: ', sen)\n",
    "print('Predicted Entailment: ', model.decode(dec_tree))\n",
    "print('')\n",
    "\n",
    "sen = \"A man laughing while at a restaurant.\"\n",
    "model.encode(sen)\n",
    "print('Sentence: ', sen)\n",
    "print('Predicted Entailment: ', model.decode(dec_tree))\n",
    "print('')\n",
    "\n",
    "sen = \"Two individuals use a photo kiosk.\"\n",
    "model.encode(sen)\n",
    "print('Sentence: ', sen)\n",
    "print('Predicted Entailment: ', model.decode(dec_tree))\n",
    "print('')\n",
    "\n",
    "sen = \"A man pulling items on a cart.\"\n",
    "model.encode(sen)\n",
    "print('Sentence: ', sen)\n",
    "print('Predicted Entailment: ', model.decode(dec_tree))\n",
    "print('')\n",
    "\n",
    "sen = \"Three people are riding a carriage pulled by four horses.\"\n",
    "model.encode(sen)\n",
    "print('Sentence: ', sen)\n",
    "print('Predicted Entailment: ', model.decode(dec_tree))\n",
    "print('')"
   ]
  },
  {
   "cell_type": "markdown",
   "metadata": {},
   "source": [
    "## Random Entailment Generation Examples\n",
    "\n",
    "We can also generate entailments using randomly chosen trees for the decoding network structure. This doesn't  always work very well."
   ]
  },
  {
   "cell_type": "code",
   "execution_count": 16,
   "metadata": {
    "collapsed": false
   },
   "outputs": [
    {
     "name": "stdout",
     "output_type": "stream",
     "text": [
      "Sentence:  A little boy in a green shirt is holding a large snake.\n",
      "Actual Entailment:  A boy is holding a snake.\n",
      "Predicted Entailment:  the boy is holding a snake .\n",
      "Random Tree Entailment:  the boy holding boy .\n",
      "\n",
      "Sentence:  A man in a gray and orange shirt stands in front of a streetlight.\n",
      "Actual Entailment:  A streetlight exists on a road.\n",
      "Predicted Entailment:  a man stands in a streetlight .\n",
      "Random Tree Entailment:  man is stands .\n",
      "\n",
      "Sentence:  A woman sits on a green bench while reading a book.\n",
      "Actual Entailment:  A human sitting\n",
      "Predicted Entailment:  a reading sitting\n",
      "Random Tree Entailment:  a reading sitting a book .\n",
      "\n",
      "Sentence:  An older man reads a newspaper in front of a store.\n",
      "Actual Entailment:  A man is standing outside.\n",
      "Predicted Entailment:  the man is is outside .\n",
      "Random Tree Entailment:  man is up a newspaper in a store\n",
      "\n",
      "Sentence:  A woman in a robe reading a book.\n",
      "Actual Entailment:  A woman in a robe is reading.\n",
      "Predicted Entailment:  a woman in a robe is reading .\n",
      "Random Tree Entailment:  there reading one woman in robe .\n",
      "\n"
     ]
    }
   ],
   "source": [
    "batch = random.sample(train_data, 5)\n",
    "\n",
    "for sample in batch:\n",
    "    model.encode(sample.sentence1)\n",
    "\n",
    "    print('Sentence: ', sample.sentence1)\n",
    "    print('Actual Entailment: ', sample.sentence2)\n",
    "    print('Predicted Entailment: ', model.decode(sample.sentence2))\n",
    "    print('Random Tree Entailment: ', model.decode())\n",
    "    print('')"
   ]
  },
  {
   "cell_type": "markdown",
   "metadata": {},
   "source": [
    "## Generating Entailment Chains\n",
    "\n",
    "We can also generate entailment chains by re-encoding a generated sentence, and then generating new sentence from the subsequent encoding. This is kind of neat because it allows us to distill what the model has learned in a network of inferential relationships between sentences."
   ]
  },
  {
   "cell_type": "code",
   "execution_count": 27,
   "metadata": {
    "collapsed": false
   },
   "outputs": [
    {
     "name": "stdout",
     "output_type": "stream",
     "text": [
      "Sentence:  A black dog with a blue collar is jumping into the water.\n",
      "Predicted Entailment:  a dog jumping into the water .\n",
      "Next Entailment:  a dog jumping wet .\n",
      "\n",
      "Sentence:  Two police officers are sitting on motorcycles in the road.\n",
      "Predicted Entailment:  officers are down on the crowded road .\n",
      "Next Entailment:  the officers of people are on the crowded road .\n",
      "\n",
      "Sentence:  Five people are playing in a gymnasium.\n",
      "Predicted Entailment:  people are are game .\n",
      "Next Entailment:  the people are are .\n",
      "\n",
      "Sentence:  A man curls up in a blanket on the street.\n",
      "Predicted Entailment:  a man is in the blanket in the blanket .\n",
      "Next Entailment:  is laying outside .\n",
      "\n"
     ]
    }
   ],
   "source": [
    "s1 = 'A black dog with a blue collar is jumping into the water.'\n",
    "s2 = 'Two police officers are sitting on motorcycles in the road.'\n",
    "s3 = 'Five people are playing in a gymnasium.'\n",
    "s4 = 'A man curls up in a blanket on the street.'\n",
    "\n",
    "sentences = [s1, s2, s3, s4]\n",
    "\n",
    "for sentence in sentences:\n",
    "    print('Sentence: ', sentence)\n",
    "    model.encode(sentence)\n",
    "    entailment = model.decode()\n",
    "    print('Predicted Entailment: ', entailment)\n",
    "    model.encode(entailment)\n",
    "    print('Next Entailment: ', model.decode())\n",
    "    print('')"
   ]
  },
  {
   "cell_type": "markdown",
   "metadata": {},
   "source": [
    "## Substitional Analysis\n",
    "\n",
    "It is also possible to examine the effect a given word or phrase has on entailment generation via substitutions. Essentially, this involves looking at the difference made to the most likely entailment when a given word or phrase in the input sentence is replaced with another word or phrase."
   ]
  },
  {
   "cell_type": "code",
   "execution_count": 28,
   "metadata": {
    "collapsed": false
   },
   "outputs": [
    {
     "name": "stdout",
     "output_type": "stream",
     "text": [
      "Sentence:  A boy in a beige shirt is sleeping in a car.\n",
      "Predicted Entailment:  a boy is sleeping in his car\n",
      "\n",
      "Sentence:  A girl in a beige shirt is sleeping in a car.\n",
      "Predicted Entailment:  a girl is sleeping in her car\n",
      "\n",
      "Sentence:  A man in a beige shirt is sleeping in a car.\n",
      "Predicted Entailment:  a man is sleeping in his car\n",
      "\n",
      "Sentence:  A woman in a beige shirt is sleeping in a car.\n",
      "Predicted Entailment:  a woman is sleeping in her car\n",
      "\n",
      "Sentence:  A boy in a beige shirt is sleeping in a car.\n",
      "Predicted Entailment:  a boy sleeping indoors\n",
      "\n",
      "Sentence:  A woman in a beige shirt is sleeping in a car.\n",
      "Predicted Entailment:  a woman sleeping inside\n",
      "\n",
      "Sentence:  A man in a beige shirt is driving in a car.\n",
      "Predicted Entailment:  a man is driving a car\n",
      "\n",
      "Sentence:  A person in a beige shirt is selling her car.\n",
      "Predicted Entailment:  a person is selling a car\n",
      "\n",
      "Sentence:  A boy in a red shirt is waiting in a store.\n",
      "Predicted Entailment:  a boy wearing a shirt is indoors\n",
      "\n",
      "Sentence:  Some men in red shirts are waiting in a store.\n",
      "Predicted Entailment:  the men are in a store\n",
      "\n",
      "Sentence:  Many women in red shirts are waiting in a store.\n",
      "Predicted Entailment:  the women are in a store\n",
      "\n",
      "Sentence:  A girl and a boy are waiting inside a store.\n",
      "Predicted Entailment:  two children are next\n",
      "\n",
      "Sentence:  A girl and a boy are waiting inside a park.\n",
      "Predicted Entailment:  two children are next\n",
      "\n",
      "Sentence:  A boy is in the car.\n",
      "Predicted Entailment:  a boy is not outside\n",
      "\n",
      "Sentence:  A boy is in the store.\n",
      "Predicted Entailment:  a boy is not indoors\n",
      "\n"
     ]
    }
   ],
   "source": [
    "# we'll use these sentences to generate decoding trees (note that just the parse is used)\n",
    "s2 = 'the dog is walking on her phone'\n",
    "s3 = 'the dog is outside'\n",
    "s4 = 'the dog is selling the bone'\n",
    "s5 = 'a dog wearing some clothes is indoors'\n",
    "s6 = 'a dog is inside a car'\n",
    "s7 = 'the dog is furry'\n",
    "s8 = 'two dogs are alone'\n",
    "s9 = 'The dog is not outdoors'\n",
    "\n",
    "def substitution(model, sentence1, sentence2):\n",
    "    model.encode(sentence1)\n",
    "\n",
    "    print('Sentence: ', sentence1)\n",
    "    print('Predicted Entailment: ', model.decode(sentence2))\n",
    "    print('')    \n",
    "\n",
    "s1 = 'A boy in a beige shirt is sleeping in a car.'\n",
    "substitution(model, s1, s2)\n",
    "    \n",
    "s1 = 'A girl in a beige shirt is sleeping in a car.'\n",
    "substitution(model, s1, s2)\n",
    "\n",
    "s1 = 'A man in a beige shirt is sleeping in a car.'\n",
    "substitution(model, s1, s2)\n",
    "\n",
    "s1 = 'A woman in a beige shirt is sleeping in a car.'\n",
    "substitution(model, s1, s2)\n",
    "\n",
    "s1 = 'A boy in a beige shirt is sleeping in a car.'\n",
    "substitution(model, s1, s3) \n",
    "\n",
    "s1 = 'A woman in a beige shirt is sleeping in a car.'\n",
    "substitution(model, s1, s3)\n",
    "\n",
    "s1 = 'A man in a beige shirt is driving in a car.'\n",
    "substitution(model, s1, s4)\n",
    "\n",
    "s1 = 'A person in a beige shirt is selling her car.'\n",
    "substitution(model, s1, s4)\n",
    "\n",
    "s1 = 'A boy in a red shirt is waiting in a store.'\n",
    "substitution(model, s1, s5)\n",
    "\n",
    "s1 = 'Some men in red shirts are waiting in a store.'\n",
    "substitution(model, s1, s6)\n",
    "\n",
    "s1 = 'Many women in red shirts are waiting in a store.'\n",
    "substitution(model, s1, s6)\n",
    "\n",
    "s1 = 'A girl and a boy are waiting inside a store.'\n",
    "substitution(model, s1, s8)\n",
    "\n",
    "s1 = 'A girl and a boy are waiting inside a park.'\n",
    "substitution(model, s1, s8)\n",
    "\n",
    "s1 = 'A boy is in the car.'\n",
    "substitution(model, s1, s9)\n",
    "\n",
    "s1 = 'A boy is in the store.'\n",
    "substitution(model, s1, s9)"
   ]
  },
  {
   "cell_type": "markdown",
   "metadata": {},
   "source": [
    "## Mapping Multiple Sentences to a Common Description:\n",
    "\n",
    "Here we can draw inferences that connect a group of sentences to single sentence that they all entail."
   ]
  },
  {
   "cell_type": "code",
   "execution_count": 29,
   "metadata": {
    "collapsed": false
   },
   "outputs": [
    {
     "name": "stdout",
     "output_type": "stream",
     "text": [
      "Sentence:  A fisherman using a cellphone on a boat.\n",
      "Predicted Entailment:  a person is on a boat\n",
      "\n",
      "Sentence:  A Man is eating food next to a child on a bench.\n",
      "Predicted Entailment:  a man is on a bench\n",
      "\n",
      "Sentence:  A shirtless man skateboards on a ledge.\n",
      "Predicted Entailment:  a man is on a skateboard\n",
      "\n",
      "Sentence:  A man wearing a hat and boots is digging for something in the snow.\n",
      "Predicted Entailment:  a man digging in the snow\n",
      "\n",
      "Sentence:  A man is on a boat.\n",
      "Predicted Entailment:  a man is outside\n",
      "\n",
      "Sentence:  A man is on a bench.\n",
      "Predicted Entailment:  a man is outside\n",
      "\n",
      "Sentence:  A man is on a skateboard.\n",
      "Predicted Entailment:  a man is outside\n",
      "\n",
      "Sentence:  A man is in the snow.\n",
      "Predicted Entailment:  a man is outside\n",
      "\n"
     ]
    }
   ],
   "source": [
    "s1 = 'A fisherman using a cellphone on a boat.'\n",
    "s2 = 'A man is on the street'\n",
    "substitution(model, s1, s2)\n",
    "\n",
    "s1 = 'A Man is eating food next to a child on a bench.'\n",
    "s2 = 'A man is on the street'\n",
    "substitution(model, s1, s2)\n",
    "\n",
    "s1 = 'A shirtless man skateboards on a ledge.'\n",
    "s2 = 'A man is on the street'\n",
    "substitution(model, s1, s2)\n",
    "\n",
    "s1 = 'A man wearing a hat and boots is digging for something in the snow.'\n",
    "s2 = 'A man is on the street'\n",
    "substitution(model, s1, s2)\n",
    "\n",
    "s1 = 'A man is on a boat.'\n",
    "s2 = 'A man is outside'\n",
    "substitution(model, s1, s2)\n",
    "\n",
    "s1 = 'A man is on a bench.'\n",
    "s2 = 'A man is outside'\n",
    "substitution(model, s1, s2)\n",
    "\n",
    "s1 = 'A man is on a skateboard.'\n",
    "s2 = 'A man is outside'\n",
    "substitution(model, s1, s2)\n",
    "\n",
    "s1 = 'A man is in the snow.'\n",
    "s2 = 'A man is outside'\n",
    "substitution(model, s1, s2)\n"
   ]
  },
  {
   "cell_type": "markdown",
   "metadata": {},
   "source": [
    "Here's another example of a building out an inferentail role using a single starting sentence:"
   ]
  },
  {
   "cell_type": "code",
   "execution_count": 30,
   "metadata": {
    "collapsed": false
   },
   "outputs": [
    {
     "name": "stdout",
     "output_type": "stream",
     "text": [
      "Sentence:  Some kids are wrestling on an inflatable raft.\n",
      "Predicted Entailment:  some kids are on a raft .\n",
      "\n",
      "Sentence:  Some kids are wrestling on an inflatable raft.\n",
      "Predicted Entailment:  some kids are around .\n",
      "\n",
      "Sentence:  Some kids are wrestling on an inflatable raft.\n",
      "Predicted Entailment:  some kids are around on a raft .\n",
      "\n",
      "Sentence:  Some kids are wrestling on an inflatable raft.\n",
      "Predicted Entailment:  some kids are on a inflatable raft .\n",
      "\n",
      "Sentence:  Some kids are wrestling on an inflatable raft.\n",
      "Predicted Entailment:  some kids are around .\n",
      "\n",
      "Sentence:  Some kids are wrestling on an inflatable raft.\n",
      "Predicted Entailment:  several kids are on a raft .\n",
      "\n",
      "Sentence:  Some kids are wrestling on an inflatable raft.\n",
      "Predicted Entailment:  several kids are around on a raft .\n",
      "\n",
      "Sentence:  Some kids are wrestling on an inflatable raft.\n",
      "Predicted Entailment:  some kids are on a raft .\n",
      "\n",
      "Sentence:  Some kids are wrestling on an inflatable raft.\n",
      "Predicted Entailment:  some kids are on a raft of the water .\n",
      "\n",
      "Sentence:  Several kids are around on a raft.\n",
      "Predicted Entailment:  some kids are on a raft of the raft .\n",
      "\n",
      "Sentence:  Several kids are around on a raft.\n",
      "Predicted Entailment:  kids are on one raft .\n",
      "\n",
      "Sentence:  Several kids are around on a raft.\n",
      "Predicted Entailment:  some are playing on a raft .\n",
      "\n",
      "Sentence:  Several kids are around on a raft.\n",
      "Predicted Entailment:  at least two kids are around .\n",
      "\n",
      "Sentence:  Some kids are around.\n",
      "Predicted Entailment:  at least two kids are around .\n",
      "\n",
      "Sentence:  Some kids are around.\n",
      "Predicted Entailment:  more than two kids are active .\n",
      "\n",
      "Sentence:  Some kids are around.\n",
      "Predicted Entailment:  some kids are not very active .\n",
      "\n"
     ]
    }
   ],
   "source": [
    "s1 = 'Some kids are wrestling on an inflatable raft.'\n",
    "s2 = 'the boy is on the beach.'\n",
    "substitution(model, s1, s2)\n",
    "\n",
    "s2 = 'the kids are outside.'\n",
    "substitution(model, s1, s2)\n",
    "\n",
    "s2 = 'Some kids wrestle outside in the sun.'\n",
    "substitution(model, s1, s2)\n",
    "\n",
    "s2 = 'The kids are with an inflatable raft.'\n",
    "substitution(model, s1, s2)\n",
    "\n",
    "s2 = 'The kids wrestle together.'\n",
    "substitution(model, s1, s2)\n",
    "\n",
    "s2 = 'young kids wrestle with each other.'\n",
    "substitution(model, s1, s2)\n",
    "\n",
    "s2 = 'old children play all over the water.'\n",
    "substitution(model, s1, s2)\n",
    "\n",
    "s2 = 'Some kids are with each other.'\n",
    "substitution(model, s1, s2)\n",
    "\n",
    "s2 = 'The kids play on a raft under the water.'\n",
    "substitution(model, s1, s2)\n",
    "\n",
    "s1 = 'Several kids are around on a raft.'\n",
    "substitution(model, s1, s2)\n",
    "\n",
    "s2 = 'They raft on three kids.'\n",
    "substitution(model, s1, s2)\n",
    "\n",
    "s2 = 'a rafts used in the match.'\n",
    "substitution(model, s1, s2)\n",
    "\n",
    "s2 = 'at least two kids are outside.'\n",
    "substitution(model, s1, s2)\n",
    "\n",
    "s1 = 'Some kids are around.'\n",
    "substitution(model, s1, s2)\n",
    "\n",
    "s2 = 'More than one kid is wet.'\n",
    "substitution(model, s1, s2)\n",
    "\n",
    "s2 = 'Those kids are not very pleased.'\n",
    "substitution(model, s1, s2)"
   ]
  },
  {
   "cell_type": "markdown",
   "metadata": {},
   "source": [
    "## Conditioned Inferences\n",
    "\n",
    "It is also possible to constrain the decoding process to selectively navigate the inferentail role associated with a particular linguistic expression."
   ]
  },
  {
   "cell_type": "code",
   "execution_count": 31,
   "metadata": {
    "collapsed": false
   },
   "outputs": [
    {
     "name": "stdout",
     "output_type": "stream",
     "text": [
      "Sentence:  A person wearing a red shirt is falling off a white surfboard.\n",
      "Conditioning Context:  surf\n",
      "Predicted Entailment:  a surfer is surfing on a surfboard .\n",
      "\n",
      "Sentence:  A person wearing a red shirt is falling off a white surfboard.\n",
      "Conditioning Context:  ocean\n",
      "Predicted Entailment:  a person is is on the ocean .\n",
      "\n",
      "Sentence:  A person wearing a red shirt is falling off a white surfboard.\n",
      "Conditioning Context:  swim\n",
      "Predicted Entailment:  a person is swim off a surfboard .\n",
      "\n",
      "Sentence:  A person wearing a red shirt is falling off a white surfboard.\n",
      "Conditioning Context:  fall\n",
      "Predicted Entailment:  a person is falls off a air .\n",
      "\n",
      "Sentence:  A person wearing a red shirt is falling off a white surfboard.\n",
      "Conditioning Context:  white\n",
      "Predicted Entailment:  a person is wearing off a surfboard .\n",
      "\n",
      "Sentence:  A man is steering his ship out at sea.\n",
      "Conditioning Context:  water\n",
      "Predicted Entailment:  a man is in the water .\n",
      "\n",
      "Sentence:  A man is steering his ship out at sea.\n",
      "Conditioning Context:  fish\n",
      "Predicted Entailment:  a man fishes in the water .\n",
      "\n",
      "Sentence:  A man is steering his ship out at sea.\n",
      "Conditioning Context:  sails\n",
      "Predicted Entailment:  a boat sails in the sea .\n",
      "\n",
      "Sentence:  A man is steering his ship out at sea.\n",
      "Conditioning Context:  steering\n",
      "Predicted Entailment:  a man steering in the water .\n",
      "\n",
      "Sentence:  A man is steering his ship out at sea.\n",
      "Conditioning Context:  voyage\n",
      "Predicted Entailment:  a ship sailing in the sea .\n",
      "\n",
      "Sentence:  A man is steering his ship out at sea.\n",
      "Conditioning Context:  sea\n",
      "Predicted Entailment:  a sea sea in the sea .\n",
      "\n",
      "Sentence:  A mother and daughter walk along the side of a bridge.\n",
      "Conditioning Context:  How many people are walking?\n",
      "Predicted Entailment:  two people are walking .\n",
      "\n",
      "Sentence:  A mother and daughter walk along the side of a bridge.\n",
      "Conditioning Context:  Are the mother and daughter walking?\n",
      "Predicted Entailment:  a mother and daughter walking together .\n",
      "\n",
      "Sentence:  A mother and daughter walk along the side of a bridge.\n",
      "Conditioning Context:  What are the mother and daughter doing?\n",
      "Predicted Entailment:  mother are on the water .\n",
      "\n",
      "Sentence:  A mother and daughter walk along the side of a bridge.\n",
      "Conditioning Context:  How tall is the bridge?\n",
      "Predicted Entailment:  a people is very close .\n",
      "\n",
      "Sentence:  A mother and daughter walk along the side of a bridge.\n",
      "Conditioning Context:  Are two people with one another?\n",
      "Predicted Entailment:  two people are together\n",
      "\n",
      "Sentence:  A mother and daughter walk along the side of a bridge.\n",
      "Conditioning Context:  Who is taller?\n",
      "Predicted Entailment:  people are close .\n",
      "\n"
     ]
    }
   ],
   "source": [
    "def condition(model, s1, s2, condition, sen=None):\n",
    "    if sen: \n",
    "        model.encoder.forward_pass(condition)\n",
    "        cond = model.encoder.get_root_embedding()\n",
    "    else:\n",
    "        cond = model.encoder.vectors[condition]\n",
    "    \n",
    "    model.encode(s1)\n",
    "    model.decoder.forward_pass(s2, model.encoder.get_root_embedding() + cond)\n",
    "\n",
    "    predicted = [node.pword for node in model.decoder.tree]\n",
    "    print('Sentence: ', s1)\n",
    "    print('Conditioning Context: ', condition)\n",
    "    print('Predicted Entailment: ', ' '.join(predicted))\n",
    "    print('')\n",
    "      \n",
    "s1 = 'A person wearing a red shirt is falling off a white surfboard.'\n",
    "s2 = 'A person is falling into the water.'\n",
    "cond_word = 'surf'\n",
    "condition(model, s1, s2, cond_word)\n",
    "       \n",
    "cond_word = 'ocean'\n",
    "condition(model, s1, s2, cond_word)\n",
    "\n",
    "cond_word = 'swim'\n",
    "condition(model, s1, s2, cond_word)\n",
    "\n",
    "cond_word = 'fall'\n",
    "condition(model, s1, s2, cond_word)\n",
    "\n",
    "cond_word = 'white'\n",
    "condition(model, s1, s2, cond_word)\n",
    "\n",
    "s1 = \"A man is steering his ship out at sea.\"\n",
    "s2 = \"A man sleeps in the ocean.\"\n",
    "cond_word = 'water'\n",
    "condition(model, s1, s2, cond_word)\n",
    "       \n",
    "cond_word = 'fish'\n",
    "condition(model, s1, s2, cond_word)\n",
    "\n",
    "s2 = \"A man sleeps in the ocean.\"\n",
    "cond_word = 'sails'\n",
    "condition(model, s1, s2, cond_word)\n",
    "\n",
    "cond_word = 'steering'\n",
    "condition(model, s1, s2, cond_word)\n",
    "\n",
    "cond_word = 'voyage'\n",
    "condition(model, s1, s2, cond_word)\n",
    "\n",
    "cond_word = 'sea'\n",
    "condition(model, s1, s2, cond_word)\n",
    "\n",
    "s1 = 'A mother and daughter walk along the side of a bridge.'\n",
    "s2 = 'Two people are walking.'\n",
    "cond_sen = 'How many people are walking?'\n",
    "condition(model, s1, s2, cond_sen, sen=True)\n",
    "\n",
    "s1 = 'A mother and daughter walk along the side of a bridge.'\n",
    "s2 = 'The mother and daughter walk together.'\n",
    "cond_sen = 'Are the mother and daughter walking?'\n",
    "condition(model, s1, s2, cond_sen, sen=True)\n",
    "\n",
    "s1 = 'A mother and daughter walk along the side of a bridge.'\n",
    "s2 = 'They are above the water.'\n",
    "cond_sen = 'What are the mother and daughter doing?'\n",
    "condition(model, s1, s2, cond_sen, sen=True)\n",
    "\n",
    "s1 = 'A mother and daughter walk along the side of a bridge.'\n",
    "s2 = 'This bridge is quite tall.'\n",
    "cond_sen = 'How tall is the bridge?'\n",
    "condition(model, s1, s2, cond_sen, sen=True)\n",
    "\n",
    "s1 = 'A mother and daughter walk along the side of a bridge.'\n",
    "s2 = 'Two people are together'\n",
    "cond_sen = 'Are two people with one another?'\n",
    "condition(model, s1, s2, cond_sen, sen=True)\n",
    "\n",
    "s1 = 'A mother and daughter walk along the side of a bridge.'\n",
    "s2 = 'mother is taller.'\n",
    "cond_sen = 'Who is taller?'\n",
    "condition(model, s1, s2, cond_sen, sen=True)"
   ]
  },
  {
   "cell_type": "code",
   "execution_count": 35,
   "metadata": {
    "collapsed": false
   },
   "outputs": [
    {
     "name": "stdout",
     "output_type": "stream",
     "text": [
      "Sentence:  A mother and daughter walk along the street.\n",
      "Conditioning Context:  How many people are walking?\n",
      "Predicted Entailment:  two people are walking .\n",
      "\n",
      "Sentence:  A mother and daughter walk along the street.\n",
      "Conditioning Context:  What are the people doing?\n",
      "Predicted Entailment:  a people are outside with the street .\n",
      "\n",
      "Sentence:  A mother and daughter walk along the street.\n",
      "Conditioning Context:  Where are the people?\n",
      "Predicted Entailment:  the people are on the street .\n",
      "\n",
      "Sentence:  A mother and daughter walk along the street.\n",
      "Conditioning Context:  How fast are the people walking?\n",
      "Predicted Entailment:  a people walking very present .\n",
      "\n",
      "Sentence:  A mother and daughter walk along the street.\n",
      "Conditioning Context:  Where on the bridge are the people?\n",
      "Predicted Entailment:  the people are on the other of the water\n",
      "\n",
      "Sentence:  A mother and daughter walk along the street.\n",
      "Conditioning Context:  What is the street over?\n",
      "Predicted Entailment:  the people are down the street .\n",
      "\n"
     ]
    }
   ],
   "source": [
    "s1 = 'A mother and daughter walk along the street.'\n",
    "s2 = 'One person is walking.'\n",
    "cond_sen = 'How many people are walking?'\n",
    "condition(model, s1, s2, cond_sen, sen=True)\n",
    "\n",
    "s1 = 'A mother and daughter walk along the street.'\n",
    "s2 = 'The mother is out for a walk.'\n",
    "cond_sen = 'What are the people doing?'\n",
    "condition(model, s1, s2, cond_sen, sen=True)\n",
    "\n",
    "s1 = 'A mother and daughter walk along the street.'\n",
    "s2 = 'The people are above some water.'\n",
    "cond_sen = 'Where are the people?'\n",
    "condition(model, s1, s2, cond_sen, sen=True)\n",
    "\n",
    "s1 = 'A mother and daughter walk along the street.'\n",
    "s2 = 'This bridge is quite tall.'\n",
    "cond_sen = 'How fast are the people walking?'\n",
    "condition(model, s1, s2, cond_sen, sen=True)\n",
    "\n",
    "s1 = 'A mother and daughter walk along the street.'\n",
    "s2 = 'The woman is in the center of the street'\n",
    "cond_sen = 'Where on the bridge are the people?'\n",
    "condition(model, s1, s2, cond_sen, sen=True)\n",
    "\n",
    "s1 = 'A mother and daughter walk along the street.'\n",
    "s2 = 'The bridge is above the water.'\n",
    "cond_sen = 'What is the street over?'\n",
    "condition(model, s1, s2, cond_sen, sen=True)"
   ]
  },
  {
   "cell_type": "code",
   "execution_count": 43,
   "metadata": {
    "collapsed": false
   },
   "outputs": [
    {
     "name": "stdout",
     "output_type": "stream",
     "text": [
      "Sentence:  A couple sits in the grass.\n",
      "Actual Entailment:  People are outside.\n",
      "Predicted Entailment:  a couple are in the grass .\n",
      "\n",
      "Sentence:  A woman is petting a dog outside.\n",
      "Actual Entailment:  A person and an animal are interacting out of doors.\n",
      "Predicted Entailment:  two woman is is .\n",
      "\n",
      "Sentence:  Two men in karate gear using fighting sticks.\n",
      "Actual Entailment:  two karate men sparring with sticks\n",
      "Predicted Entailment:  the men are fighting\n",
      "\n",
      "Sentence:  A white duck is spreading its wings while sitting on the water.\n",
      "Actual Entailment:  There is an animal in the water.\n",
      "Predicted Entailment:  a duck is duck .\n",
      "\n",
      "Sentence:  A group of girls jumping over another girl who is laying on the floor.\n",
      "Actual Entailment:  A group of girl is playing.\n",
      "Predicted Entailment:  the girls are are of the girls .\n",
      "\n",
      "Sentence:  A woman in a teal apron prepares a meal at a restaurant.\n",
      "Actual Entailment:  A woman in restaurant\n",
      "Predicted Entailment:  a woman prepares at the restaurant\n",
      "\n",
      "Sentence:  Two men in orange uniforms stand before a train and do some work.\n",
      "Actual Entailment:  Humans working.\n",
      "Predicted Entailment:  people working on a train .\n",
      "\n",
      "Sentence:  Family members standing outside a home.\n",
      "Actual Entailment:  A family is standing outside.\n",
      "Predicted Entailment:  the family are standing a outdoors .\n",
      "\n",
      "Sentence:  A boy drags his sled through the snow.\n",
      "Actual Entailment:  a boy drags a sled\n",
      "Predicted Entailment:  boy is is .\n",
      "\n",
      "Sentence:  Two women are observing something together.\n",
      "Actual Entailment:  Two girls are looking at something.\n",
      "Predicted Entailment:  the women are women .\n",
      "\n"
     ]
    }
   ],
   "source": [
    "batch = random.sample(test_data, 10)\n",
    "batch = test_data[-10:]\n",
    "for sample in batch:\n",
    "    model.encode(sample.sentence1)\n",
    "    tree = random.sample(common_parses, 1)[0][0]\n",
    "\n",
    "    print('Sentence: ', sample.sentence1)\n",
    "    print('Actual Entailment: ', sample.sentence2)\n",
    "    print('Predicted Entailment: ', model.decode(tree))\n",
    "    print('')"
   ]
  },
  {
   "cell_type": "code",
   "execution_count": null,
   "metadata": {
    "collapsed": true
   },
   "outputs": [],
   "source": []
  }
 ],
 "metadata": {
  "anaconda-cloud": {},
  "kernelspec": {
   "display_name": "Python 3",
   "language": "python",
   "name": "python3"
  },
  "language_info": {
   "codemirror_mode": {
    "name": "ipython",
    "version": 3
   },
   "file_extension": ".py",
   "mimetype": "text/x-python",
   "name": "python",
   "nbconvert_exporter": "python",
   "pygments_lexer": "ipython3",
   "version": "3.5.2"
  }
 },
 "nbformat": 4,
 "nbformat_minor": 0
}
